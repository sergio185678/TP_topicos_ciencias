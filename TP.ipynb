{
 "cells": [
  {
   "cell_type": "code",
   "execution_count": 8,
   "metadata": {},
   "outputs": [],
   "source": [
    "from ortools.sat.python import cp_model"
   ]
  },
  {
   "cell_type": "code",
   "execution_count": 15,
   "metadata": {},
   "outputs": [],
   "source": [
    "array_hombre_a_mujer=[[3,5,4,2,1,6],[3,2,5,6,4,1],[2,4,3,1,5,6],[5,6,4,2,3,1],[2,5,3,6,4,1],[1,3,4,5,6,2]]\n",
    "array_mujer_a_hombre=[[2,4,5,3,6,1],[3,5,4,2,1,6],[1,3,6,2,4,5],[3,2,5,6,4,1],[6,4,2,1,3,5],[6,4,3,1,5,2]]\n",
    "nombres_hombres=[\"Richard\",\"James\",\"John\",\"Bill\",\"Greg\",\"Mario\"]\n",
    "nombres_mujeres=[\"Helen\",\"Tracy\",\"Linda\",\"Sally\",\"Wanda\",\"Mary\"]\n",
    "n=6"
   ]
  },
  {
   "cell_type": "code",
   "execution_count": 16,
   "metadata": {},
   "outputs": [],
   "source": [
    "model = cp_model.CpModel()\n",
    "\n",
    "#creación de las variables y dominios de hombres a mujeres\n",
    "grilla_hombres = []\n",
    "for i in range(n):\n",
    "  fila = []\n",
    "  for j in range(n):\n",
    "    fila += [model.NewIntVar(0,1,'H'+str(i)+'_M'+str(j))]\n",
    "  grilla_hombres+=[fila]\n",
    "\n",
    "#creación de las variables y dominios de mujeres a hombres\n",
    "grilla_mujeres = []\n",
    "for i in range(n):\n",
    "  fila = []\n",
    "  for j in range(n):\n",
    "    fila += [model.NewIntVar(0,1,'M'+str(i)+'_H'+str(j))]\n",
    "  grilla_mujeres+=[fila]\n",
    "\n",
    "#se unen las 2 grillas\n",
    "grilla_total=[grilla_hombres]+[grilla_mujeres]\n",
    "\n",
    "#restricciones\n",
    "# 1 elige, 0 no elige\n",
    "for i in range(n):\n",
    "  #la fila solo puede sumar 1, ya que solo una persona puede elegir a una persona\n",
    "  model.Add(sum(grilla_total[0][i])==1)\n",
    "  model.Add(sum(grilla_total[1][i])==1)\n",
    "  for j in range(n):\n",
    "    #solo pueden elegir a personas con minimo de 4 orden de preferencia\n",
    "    if(array_hombre_a_mujer[i][j]>4):\n",
    "      model.Add(grilla_total[0][i][j]==0)\n",
    "    if(array_mujer_a_hombre[i][j]>4):\n",
    "      model.Add(grilla_total[1][i][j]==0)\n",
    "\n",
    "for j in range(n):\n",
    "  #tambien la columna solo pueden ser elegido por una persona\n",
    "  c1 = [grilla_total[0][i][j] for i in range(n)]\n",
    "  c2 = [grilla_total[1][i][j] for i in range(n)]\n",
    "  model.Add(sum(c1)==1)\n",
    "  model.Add(sum(c2)==1)\n",
    "\n",
    "#las sumas de los valores de las transpuestas entre las 2 tablas no pueden sumar 1\n",
    "for i in range(n):\n",
    "  for j in range(n):\n",
    "    model.Add(grilla_total[0][i][j]+grilla_total[1][j][i]!=1)\n",
    "\n",
    "#solucionando el modelo\n",
    "solver = cp_model.CpSolver()\n",
    "solver.parameters.max_time_in_seconds = 10.0\n",
    "status = solver.Solve(model)"
   ]
  },
  {
   "cell_type": "code",
   "execution_count": 17,
   "metadata": {},
   "outputs": [
    {
     "name": "stdout",
     "output_type": "stream",
     "text": [
      "Hombres a Mujeres\n",
      "000100\n",
      "000001\n",
      "010000\n",
      "000010\n",
      "001000\n",
      "100000\n"
     ]
    }
   ],
   "source": [
    "print(\"Hombres a Mujeres\")\n",
    "for i in range(n):\n",
    "  for j in range(n):\n",
    "    print(solver.Value(grilla_total[0][i][j]), end=\"\")\n",
    "  print(\"\")"
   ]
  },
  {
   "cell_type": "code",
   "execution_count": 18,
   "metadata": {},
   "outputs": [
    {
     "name": "stdout",
     "output_type": "stream",
     "text": [
      "Mujeres a Hombres\n",
      "000001\n",
      "001000\n",
      "000010\n",
      "100000\n",
      "000100\n",
      "010000\n"
     ]
    }
   ],
   "source": [
    "print(\"Mujeres a Hombres\")\n",
    "for i in range(n):\n",
    "  for j in range(n):\n",
    "    print(solver.Value(grilla_total[1][i][j]), end=\"\")\n",
    "  print(\"\")"
   ]
  },
  {
   "cell_type": "code",
   "execution_count": 21,
   "metadata": {},
   "outputs": [
    {
     "name": "stdout",
     "output_type": "stream",
     "text": [
      "'Richard' se casa con 'Sally'\n",
      "'James' se casa con 'Mary'\n",
      "'John' se casa con 'Tracy'\n",
      "'Bill' se casa con 'Wanda'\n",
      "'Greg' se casa con 'Linda'\n",
      "'Mario' se casa con 'Helen'\n"
     ]
    }
   ],
   "source": [
    "for i in range(n):\n",
    "  for j in range(n):\n",
    "    if(solver.Value(grilla_total[0][i][j])==1):\n",
    "      print(\"'\"+str(nombres_hombres[i])+\"' se casa con '\"+str(nombres_mujeres[j])+\"'\")"
   ]
  }
 ],
 "metadata": {
  "kernelspec": {
   "display_name": "Python 3",
   "language": "python",
   "name": "python3"
  },
  "language_info": {
   "codemirror_mode": {
    "name": "ipython",
    "version": 3
   },
   "file_extension": ".py",
   "mimetype": "text/x-python",
   "name": "python",
   "nbconvert_exporter": "python",
   "pygments_lexer": "ipython3",
   "version": "3.11.4"
  },
  "orig_nbformat": 4
 },
 "nbformat": 4,
 "nbformat_minor": 2
}
